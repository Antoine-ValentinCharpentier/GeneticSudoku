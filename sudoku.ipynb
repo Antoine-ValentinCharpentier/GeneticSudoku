{
 "cells": [
  {
   "cell_type": "code",
   "execution_count": 16,
   "metadata": {},
   "outputs": [],
   "source": [
    "import numpy as np"
   ]
  },
  {
   "cell_type": "code",
   "execution_count": 17,
   "metadata": {},
   "outputs": [],
   "source": [
    "GRID_SIZE = 3 * 3\n",
    "NB_INDIVIDUALS_POPULATION = 50"
   ]
  },
  {
   "cell_type": "code",
   "execution_count": 18,
   "metadata": {},
   "outputs": [],
   "source": [
    "def generate_individual():\n",
    "    \"\"\"\n",
    "    Initialize a random Sudoku grid where each cell has an equal chance of being a number from 1 to 9.\n",
    "    So the grid can be invalid. But aftern, we will use a genetic to make the grid valid.\n",
    "\n",
    "    Returns:\n",
    "        A numpy.ndarray with dimensions (GRID_SIZE, GRID_SIZE) where each cell contains a value between 1 and GRID_SIZE (inclusive).\n",
    "    \"\"\"\n",
    "    min_value = 1\n",
    "    max_value = GRID_SIZE + 1\n",
    "    size = (GRID_SIZE, GRID_SIZE)\n",
    "    return np.random.randint(min_value, max_value, size=size)\n"
   ]
  },
  {
   "cell_type": "code",
   "execution_count": 19,
   "metadata": {},
   "outputs": [
    {
     "data": {
      "text/plain": [
       "array([[4, 1, 2, 3, 9, 5, 4, 8, 4],\n",
       "       [7, 3, 6, 9, 6, 9, 9, 1, 8],\n",
       "       [3, 7, 8, 4, 2, 1, 3, 6, 4],\n",
       "       [7, 3, 2, 3, 7, 1, 5, 1, 2],\n",
       "       [5, 3, 7, 2, 6, 1, 6, 2, 4],\n",
       "       [9, 1, 6, 5, 4, 9, 2, 5, 8],\n",
       "       [6, 1, 3, 4, 6, 1, 3, 6, 5],\n",
       "       [5, 9, 2, 5, 3, 8, 3, 2, 4],\n",
       "       [4, 5, 3, 1, 9, 2, 2, 8, 7]])"
      ]
     },
     "execution_count": 19,
     "metadata": {},
     "output_type": "execute_result"
    }
   ],
   "source": [
    "generate_individual()"
   ]
  },
  {
   "cell_type": "code",
   "execution_count": 20,
   "metadata": {},
   "outputs": [],
   "source": [
    "def generate_population():\n",
    "    \"\"\"\n",
    "    Generates a population by creating a list of individuals using the generate_individual function.\n",
    "\n",
    "    Returns:\n",
    "        list: A population consisting of multiple individuals.\n",
    "    \"\"\"\n",
    "    return [generate_individual() for x in range(NB_INDIVIDUALS_POPULATION)]"
   ]
  },
  {
   "cell_type": "code",
   "execution_count": 33,
   "metadata": {},
   "outputs": [],
   "source": [
    "def compute_fitness(individual):\n",
    "    \"\"\"\n",
    "    Computes the fitness score of an individual.\n",
    "\n",
    "    Args:\n",
    "        individual (numpy.ndarray): A numpy.ndarray with dimensions (GRID_SIZE, GRID_SIZE) where each cell contains a value between 1 and GRID_SIZE (inclusive).\n",
    "\n",
    "    Returns:\n",
    "        int: Fitness score of the individual.\n",
    "    \"\"\"\n",
    "    fitness = 0\n",
    "\n",
    "    for i in range(GRID_SIZE):\n",
    "        unique_digit_column = np.unique(i[:, 0])\n",
    "        unique_digit_line = np.unique(individual[i])\n",
    "        fitness += GRID_SIZE - len(unique_digit_line)\n",
    "        fitness += GRID_SIZE - len(unique_digit_column)\n",
    "        \n",
    "    return fitness"
   ]
  }
 ],
 "metadata": {
  "kernelspec": {
   "display_name": ".venv",
   "language": "python",
   "name": "python3"
  },
  "language_info": {
   "codemirror_mode": {
    "name": "ipython",
    "version": 3
   },
   "file_extension": ".py",
   "mimetype": "text/x-python",
   "name": "python",
   "nbconvert_exporter": "python",
   "pygments_lexer": "ipython3",
   "version": "3.11.5"
  },
  "orig_nbformat": 4
 },
 "nbformat": 4,
 "nbformat_minor": 2
}
