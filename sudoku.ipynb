{
 "cells": [
  {
   "cell_type": "code",
   "execution_count": null,
   "metadata": {},
   "outputs": [],
   "source": [
    "import numpy as np"
   ]
  },
  {
   "cell_type": "code",
   "execution_count": null,
   "metadata": {},
   "outputs": [],
   "source": [
    "GRID_SIZE = 3 ** 2\n",
    "NB_INDIVIDUALS_POPULATION = 50\n",
    "FITNESS_GOAL = GRID_SIZE * GRID_SIZE * 2"
   ]
  },
  {
   "cell_type": "code",
   "execution_count": null,
   "metadata": {},
   "outputs": [],
   "source": [
    "def generate_individual():\n",
    "    \"\"\"\n",
    "    Initialize a random Sudoku grid where each cell has an equal chance of being a number from 1 to 9.\n",
    "    So the grid can be invalid. But aftern, we will use a genetic to make the grid valid.\n",
    "\n",
    "    Returns:\n",
    "        A numpy.ndarray with dimensions (GRID_SIZE, GRID_SIZE) where each cell contains a value between 1 and GRID_SIZE (inclusive).\n",
    "    \"\"\"\n",
    "    min_value = 1\n",
    "    max_value = GRID_SIZE + 1\n",
    "    size = (GRID_SIZE, GRID_SIZE)\n",
    "    return np.random.randint(min_value, max_value, size=size)\n"
   ]
  },
  {
   "cell_type": "code",
   "execution_count": null,
   "metadata": {},
   "outputs": [],
   "source": [
    "generate_individual()"
   ]
  },
  {
   "cell_type": "code",
   "execution_count": null,
   "metadata": {},
   "outputs": [],
   "source": [
    "def generate_population():\n",
    "    \"\"\"\n",
    "    Generates a population by creating a list of individuals using the generate_individual function.\n",
    "\n",
    "    Returns:\n",
    "        list: A population consisting of multiple individuals.\n",
    "    \"\"\"\n",
    "    return [generate_individual() for x in range(NB_INDIVIDUALS_POPULATION)]"
   ]
  },
  {
   "cell_type": "code",
   "execution_count": null,
   "metadata": {},
   "outputs": [],
   "source": [
    "def compute_fitness(individual):\n",
    "    \"\"\"\n",
    "    Computes the fitness score of an individual.\n",
    "\n",
    "    Args:\n",
    "        individual (numpy.ndarray): A numpy.ndarray with dimensions (GRID_SIZE, GRID_SIZE) where each cell contains a value between 1 and GRID_SIZE (inclusive).\n",
    "\n",
    "    Returns:\n",
    "        int: Fitness score of the individual.\n",
    "    \"\"\"\n",
    "    fitness = 0\n",
    "\n",
    "    for i in range(GRID_SIZE):\n",
    "        unique_digit_column = np.unique(individual[:, i])\n",
    "        unique_digit_line = np.unique(individual[i])\n",
    "        fitness += len(unique_digit_line)\n",
    "        fitness += len(unique_digit_column)\n",
    "        \n",
    "    return fitness"
   ]
  },
  {
   "cell_type": "code",
   "execution_count": null,
   "metadata": {},
   "outputs": [],
   "source": [
    "def selection(population, fitness_scores):\n",
    "    \"\"\"\n",
    "    Selects 50% of the population based on their fitness scores using roulette wheel selection.\n",
    "\n",
    "    Roulette wheel selection is a widely used method in genetic algorithms for selecting individuals from a population based on their fitness scores. The selection process is analogous to a roulette wheel, where each individual's probability of selection is proportional to their fitness score. Higher fitness scores correspond to larger areas on the roulette wheel, increasing the likelihood of selection.\n",
    "\n",
    "    Args:\n",
    "        population (list): List of grid in the current population.\n",
    "        fitness_scores (list): List of fitness scores corresponding to the individuals/population.\n",
    "\n",
    "    Returns:\n",
    "        list: Selected grids based on the selection probabilities.\n",
    "    \"\"\"\n",
    "    nb_individual_to_select = len(population) // 2  \n",
    "\n",
    "    total_fitness = sum(fitness_scores)\n",
    "    selection_probabilities = [fit / total_fitness for fit in fitness_scores]\n",
    "\n",
    "    selected_indices = np.random.choice(np.arange(len(population)), size=nb_individual_to_select, p=selection_probabilities)\n",
    "    selected_individuals = [population[i] for i in selected_indices]\n",
    "\n",
    "    return selected_individuals"
   ]
  },
  {
   "cell_type": "code",
   "execution_count": null,
   "metadata": {},
   "outputs": [],
   "source": [
    "def crossover(grid1, grid2):\n",
    "    \"\"\"\n",
    "    Performs crossover between two Sudoku grids to create two descendants.\n",
    "\n",
    "    Args:\n",
    "        parent1 (numpy.ndarray): First grid.\n",
    "        parent2 (numpy.ndarray): Second grid.\n",
    "\n",
    "    Returns:\n",
    "        tuple: Two descendants resulting from the crossover.\n",
    "    \"\"\"\n",
    "    descendant1 = np.copy(grid1)\n",
    "    descendant2 = np.copy(grid2)\n",
    "\n",
    "    for i in range(GRID_SIZE):\n",
    "        if i % 2 != 0:\n",
    "            descendant1[i] = grid2[i]\n",
    "            descendant2[i] = grid1[i]\n",
    "\n",
    "    return descendant1, descendant2"
   ]
  },
  {
   "cell_type": "code",
   "execution_count": null,
   "metadata": {},
   "outputs": [],
   "source": [
    "def calculate_mutation_rate(fitness_score):\n",
    "    \"\"\"\n",
    "    Calculates the mutation rate based on the fitness score.\n",
    "\n",
    "    Args:\n",
    "        fitness_score (int): Fitness score of a grid (higher score indicates a better solution).\n",
    "\n",
    "    Returns:\n",
    "        float: Calculated mutation rate.\n",
    "    \"\"\"\n",
    "    return 1.0 - fitness_score / FITNESS_GOAL"
   ]
  },
  {
   "cell_type": "code",
   "execution_count": null,
   "metadata": {},
   "outputs": [],
   "source": [
    "def mutate(grid):\n",
    "    \"\"\"\n",
    "    Mutates a Sudoku grid by randomly modifying some cells.\n",
    "\n",
    "    Args:\n",
    "        grid (numpy.ndarray): Sudoku grid to be mutated.\n",
    "\n",
    "    Returns:\n",
    "        numpy.ndarray: Mutated Sudoku grid.\n",
    "    \"\"\"\n",
    "    mutated_grid = np.copy(grid)\n",
    "\n",
    "    fitness_score = compute_fitness(mutated_grid)\n",
    "    mutation_rate = calculate_mutation_rate(fitness_score)\n",
    "\n",
    "    for i in range(GRID_SIZE):\n",
    "        for j in range(GRID_SIZE):\n",
    "            if np.random.random() < mutation_rate:\n",
    "                other_possible_values = [num for num in range(1, GRID_SIZE + 1) if num not in grid[i]]\n",
    "                if len(other_possible_values) != 0:\n",
    "                    new_value = np.random.choice(other_possible_values)\n",
    "                else:\n",
    "                    new_value = np.random.choice(GRID_SIZE)\n",
    "                mutated_grid[i, j] = new_value\n",
    "\n",
    "    return mutated_grid"
   ]
  },
  {
   "cell_type": "code",
   "execution_count": null,
   "metadata": {},
   "outputs": [],
   "source": [
    "def generate_new_generation(current_population):\n",
    "    \"\"\"\n",
    "    Generates a new generation of individuals based on the provided functions.\n",
    "\n",
    "    Args:\n",
    "        current_population (list of numpy.ndarray): Current population of individuals.\n",
    "\n",
    "    Returns:\n",
    "        tuple: A tuple containing a flag indicating whether more generations are needed and the new generation of individuals.\n",
    "            - bool: True if more generations are needed, False otherwise.\n",
    "            - list of numpy.ndarray: New generation of individuals.\n",
    "    \"\"\"\n",
    "    fitness_scores = [compute_fitness(grid) for grid in current_population]\n",
    "\n",
    "    parents = selection(current_population, fitness_scores)\n",
    "\n",
    "    num_children = len(current_population) - len(parents)\n",
    "\n",
    "    print(len(parents), len(current_population))\n",
    "    children = []\n",
    "    for i in range(num_children // 2):\n",
    "        idx_parent1, idx_parent2 = np.random.choice(len(parents), size=2, replace=False)\n",
    "        parent1 = parents[idx_parent1]\n",
    "        parent2 = parents[idx_parent2]\n",
    "        child1, child2 = crossover(parent1, parent2)\n",
    "        children.append(child1)\n",
    "        children.append(child2)\n",
    "\n",
    "    mutated_children = [mutate(child) for child in children]\n",
    "\n",
    "    new_generation = parents + mutated_children\n",
    "\n",
    "    need_more_generation = True\n",
    "    if FITNESS_GOAL in fitness_scores :\n",
    "        need_more_generation = False\n",
    "\n",
    "    print('Max Fitness', max(fitness_scores))\n",
    "    return need_more_generation, new_generation"
   ]
  },
  {
   "cell_type": "code",
   "execution_count": null,
   "metadata": {},
   "outputs": [],
   "source": [
    "def main():\n",
    "    population = generate_population()\n",
    "\n",
    "    need_more_generation = True\n",
    "    i = 0\n",
    "    while need_more_generation:\n",
    "        print(f'Gen n°{i}')\n",
    "        need_more_generation, population = generate_new_generation(population)\n",
    "        i+=1"
   ]
  },
  {
   "cell_type": "code",
   "execution_count": null,
   "metadata": {},
   "outputs": [],
   "source": [
    "if __name__ == \"__main__\":\n",
    "    main()"
   ]
  }
 ],
 "metadata": {
  "kernelspec": {
   "display_name": ".venv",
   "language": "python",
   "name": "python3"
  },
  "language_info": {
   "codemirror_mode": {
    "name": "ipython",
    "version": 3
   },
   "file_extension": ".py",
   "mimetype": "text/x-python",
   "name": "python",
   "nbconvert_exporter": "python",
   "pygments_lexer": "ipython3",
   "version": "3.11.5"
  },
  "orig_nbformat": 4
 },
 "nbformat": 4,
 "nbformat_minor": 2
}
